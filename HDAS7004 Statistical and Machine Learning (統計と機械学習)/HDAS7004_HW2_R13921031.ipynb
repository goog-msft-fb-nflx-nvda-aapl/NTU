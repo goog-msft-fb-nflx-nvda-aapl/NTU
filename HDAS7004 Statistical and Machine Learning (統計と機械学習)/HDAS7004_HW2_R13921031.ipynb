{
 "cells": [
  {
   "cell_type": "markdown",
   "metadata": {},
   "source": [
    "## Problem Description\n",
    "### Context ###\n",
    " - $Y_i$ is response variable\n",
    " - $X_i$ is input variable\n",
    " - $\\hat{f}(X_i)$ is the predicted model.\n",
    " - $N$ is the number of observations. ( i.e. $i = 1,2,3 ... N$ )\n",
    "\n",
    "### The four methods to be discussed ###\n",
    " - Method 1. Validation Set Approach ( please use 80:20 split for the derivation )\n",
    " A set of n observations are randomly split into a training set and a validation set. The statistical learning method is fit on the training set, and its performance is evaluated on the validation set.\n",
    " - Method 2. Leave-One-Out Cross-Validation (LOOCV)  \n",
    " A set of n data points is repeatedly split into a training set containing all but one observation, and a validation set that contains only that observation (shown in beige). The test error is then estimated by averaging the n resulting MSEs. The first training set contains all but observation 1, the second training set contains all but observation 2, and so forth.\n",
    " - Method 3. k-Fold Cross-Validation ( please use k = 5 for the derivation )\n",
    " A set of n observations is randomly split into five non-overlapping groups. Each of these fifths acts as a validation set (shown in beige), and the remainder as a training set. The test error is estimated by averaging the five resulting MSE estimates.\n",
    " - Method 4. Bootstrap\n",
    " Each bootstrap data set contains n observations, sampled with replacement from the original data set. Each bootstrap data set is used to obtain an estimate of α.\n",
    "\n",
    "### The Bias-Variance Trade-Off ###\n",
    "It is possible to show that the expected test MSE, for a given value $x_0$, can always be decomposed into the sum of three fundamental quantities: \n",
    "- the variance of $\\hat{f}(x_0)$  \n",
    "- the squared bias of $\\hat{f}(x_0)$  \n",
    "- the variance of the error variance terms ϵ.  \n",
    "That is,  \n",
    "$(E(y_0−\\hat{f}(x_0)))^2 = Var( \\hat{f}(x_0) ) + ( Bias( \\hat{f}(x_0) ) )^2 + Var(ϵ)$\n",
    "Here the notation $(E(y_0−\\hat{f}(x_0)))^2$ defines the expected test MSE at x0,   \n",
    "expected and refers to the average test MSE that we would obtain if we repeatedly test MSE estimated f using a large number of training sets, and tested each at $x_0$.   \n",
    "The overall expected test MSE can be computed by averaging $(E(y_0−\\hat{f}(x_0)))^2$ over all possible values of x0 in the test set.\n",
    "\n",
    "### Definition of \"variance\" ###\n",
    "What do we mean by the variance and bias of a statistical learning method?   \n",
    "Variance refers to the amount by which $\\hat{f}$ would change if we estimated it using a different training data set.   \n",
    "Since the training data are used to fit the statistical learning method, different training data sets will result in a different $\\hat{f}$ .   \n",
    "But ideally the estimate for f should not vary too much between training sets.   \n",
    "However, if a method has high variance then small changes in the training data can result in large changes in $\\hat{f}$.   \n",
    "In general, more flexible statistical methods have higher variance.  \n",
    "Consider the green and orange curves in Figure 2.9. The flexible green curve is following the observations very closely.  \n",
    "It has high variance because changing any one of these data points may cause the estimate $\\hat{f}$ to change considerably.\n",
    "\n",
    "### questions ###\n",
    " - Question 1. What is the variance of the prediction error calculated using the four methods on the test dataset?\n",
    " - Question 2. Which method results in the largest prediction error variance?\n",
    " - Question 3. If you were to evaluate the model's performance in the future, which method would you recommend using?\n",
    "\n",
    "### note ###\n",
    " - Please verify and discuss using both theoretical derivation and simulation approaches.\n",
    " - Without loss of generality, you may assume continuous variables and use linear regression for model construction, with Mean Squared Error (MSE) as the loss function. You may also use other assumptions in your answer. For example, you can use simple model like the below for the theoretical derivation."
   ]
  },
  {
   "cell_type": "markdown",
   "metadata": {},
   "source": [
    "## ✅ Part 1. Theoretical Derivation"
   ]
  },
  {
   "cell_type": "markdown",
   "metadata": {},
   "source": [
    "### Setup\n",
    "- True model: $Y_i = f(X_i) + \\varepsilon_i$ where $\\varepsilon_i \\sim N(0, \\sigma^2)$\n",
    "- Predicted model: $\\hat{f}(X_i)$ from training data\n",
    "- Test error: $MSE = \\frac{1}{n_{test}}\\sum_{i \\in \\text{test}}(Y_i - \\hat{f}(X_i))^2$\n",
    "\n",
    "For the simple linear regression model given: $f(X_i) = \\beta_0 + \\beta_1 X_i$"
   ]
  },
  {
   "cell_type": "markdown",
   "metadata": {},
   "source": [
    "## Assumptions used in the Theoretical Derivation.\n",
    "\n",
    "- We consider a linear regression model: $Y_i = \\beta_0 + \\beta_1 X_i + \\epsilon_i$\n",
    "- $\\epsilon_i \\sim N(0, \\sigma^2)$ are i.i.d. error terms\n",
    "- We have $N = 100$ observations\n",
    "- The goal is to estimate the prediction error variance for future observations using different validation methods\n",
    "\n",
    "For a new observation point $x_0$, the prediction error variance is given by $\\text{Var}(Y_0 - \\hat{Y}_0)$, where $\\hat{Y}_0 = \\hat{f}(x_0)$ is our prediction."
   ]
  },
  {
   "cell_type": "markdown",
   "metadata": {},
   "source": [
    "### Method 1: Validation Set Approach (80:20 split)\n",
    "\n",
    "In this approach, we randomly split data into:\n",
    "- Training set: 80 observations\n",
    "- Validation set: 20 observations\n",
    "\n",
    "For a single simulation, the MSE on the validation set is:\n",
    "$MSE_{val} = \\frac{1}{20}\\sum_{i \\in val}(Y_i - \\hat{f}(X_i))^2$\n",
    "\n",
    "When we repeat this process across simulations, the variance comes from:\n",
    "1. Random sampling of the entire dataset\n",
    "2. Random splitting into training and validation sets\n",
    "\n",
    "The variance of the MSE is:\n",
    "$$\\text{Var}(MSE_{val}) = \\text{Var}\\left(\\frac{1}{20}\\sum_{i \\in val}(Y_i - \\hat{f}(X_i))^2\\right)$$\n",
    "\n",
    "Since the validation set changes with each simulation, and $\\hat{f}$ changes with each training set, this approach has high variance due to the sensitivity to which observations end up in which set.\n",
    "\n",
    "To be more specific about the derivation, (I am really stuck in the derivation, not sure what what the expected format shoule be.)\n",
    "\n",
    "1. We split our data into:\n",
    "   - Training set: 80 observations (80%)\n",
    "   - Validation set: 20 observations (20%)\n",
    "\n",
    "2. For linear regression, the model parameters are estimated as:\n",
    "   $\\hat{\\beta} = (X_{train}^T X_{train})^{-1} X_{train}^T Y_{train}$\n",
    "\n",
    "3. For a new observation $x_0$, the prediction is:\n",
    "   $\\hat{Y}_0 = \\hat{\\beta}_0 + \\hat{\\beta}_1 x_0$\n",
    "\n",
    "4. The prediction error variance is:\n",
    "   $\\text{Var}(Y_0 - \\hat{Y}_0) = \\text{Var}(Y_0) + \\text{Var}(\\hat{Y}_0) - 2\\text{Cov}(Y_0, \\hat{Y}_0)$\n",
    "\n",
    "5. Since $Y_0$ and $\\hat{Y}_0$ are independent for a new observation:\n",
    "   $\\text{Var}(Y_0 - \\hat{Y}_0) = \\text{Var}(Y_0) + \\text{Var}(\\hat{Y}_0) = \\sigma^2 + \\text{Var}(\\hat{Y}_0)$\n",
    "\n",
    "6. For linear regression, the prediction variance at $x_0$ is:\n",
    "   $\\text{Var}(\\hat{Y}_0) = \\sigma^2 x_0^T (X_{train}^T X_{train})^{-1} x_0$\n",
    "\n",
    "7. Simplifying for our univariate case:\n",
    "   $\\text{Var}(\\hat{Y}_0) = \\sigma^2 \\left[ \\frac{1}{n_{train}} + \\frac{(x_0 - \\bar{X}_{train})^2}{\\sum_{i=1}^{n_{train}} (X_i - \\bar{X}_{train})^2} \\right]$\n",
    "\n",
    "8. Therefore:\n",
    "   $\\text{Var}(Y_0 - \\hat{Y}_0) = \\sigma^2 + \\sigma^2 \\left[ \\frac{1}{n_{train}} + \\frac{(x_0 - \\bar{X}_{train})^2}{\\sum_{i=1}^{n_{train}} (X_i - \\bar{X}_{train})^2} \\right]$\n",
    "\n",
    "9. With $n_{train} = 80$, the prediction error variance becomes:\n",
    "   $\\text{Var}(Y_0 - \\hat{Y}_0) = \\sigma^2 \\left[ 1 + \\frac{1}{80} + \\frac{(x_0 - \\bar{X}_{train})^2}{\\sum_{i=1}^{80} (X_i - \\bar{X}_{train})^2} \\right]$"
   ]
  },
  {
   "cell_type": "markdown",
   "metadata": {},
   "source": [
    "### Method 2: Leave-One-Out Cross-Validation (LOOCV)\n",
    "\n",
    "In LOOCV:\n",
    "- For each observation $i$, we train on all observations except $i$\n",
    "- We test on the single observation $i$\n",
    "- We average the results across all $N$ observations\n",
    "\n",
    "The LOOCV estimate of test MSE is:\n",
    "$$MSE_{LOOCV} = \\frac{1}{N}\\sum_{i=1}^{N}(Y_i - \\hat{f}^{-i}(X_i))^2$$\n",
    "\n",
    "where $\\hat{f}^{-i}$ is the model trained without observation $i$.\n",
    "\n",
    "The variance of LOOCV across simulations comes primarily from the random sampling of the entire dataset, as all LOOCV estimates within a given dataset use nearly the same training data.\n",
    "\n",
    "$$\\text{Var}(MSE_{LOOCV}) = \\text{Var}\\left(\\frac{1}{N}\\sum_{i=1}^{N}(Y_i - \\hat{f}^{-i}(X_i))^2\\right)$$\n",
    "\n",
    "Since LOOCV uses $N-1$ observations for each training set, the training sets across different folds are highly correlated, resulting in lower variance across simulations.\n",
    "\n",
    "1. In LOOCV, we train on $N-1 = 99$ observations and test on the remaining 1 observation, repeating this $N$ times.\n",
    "\n",
    "2. For each validation point $x_i$, we have:\n",
    "   $\\text{Var}(\\hat{Y}_i^{(-i)}) = \\sigma^2 \\left[ \\frac{1}{n-1} + \\frac{(x_i - \\bar{X}_{(-i)})^2}{\\sum_{j \\neq i} (X_j - \\bar{X}_{(-i)})^2} \\right]$\n",
    "   where $\\hat{Y}_i^{(-i)}$ is the prediction for observation $i$ using a model trained without observation $i$, and $\\bar{X}_{(-i)}$ is the mean of $X$ excluding observation $i$.\n",
    "\n",
    "3. The average prediction error variance is:\n",
    "   $\\text{Var}(Y_0 - \\hat{Y}_0)_{LOOCV} = \\sigma^2 + \\frac{1}{n} \\sum_{i=1}^{n} \\text{Var}(\\hat{Y}_i^{(-i)})$\n",
    "\n",
    "4. With $n = 100$ and $n_{train} = 99$, this becomes:\n",
    "   $\\text{Var}(Y_0 - \\hat{Y}_0)_{LOOCV} = \\sigma^2 \\left[ 1 + \\frac{1}{99} + \\text{average variation term} \\right]$\n",
    "\n",
    "5. The \"average variation term\" is generally smaller than the validation set approach because we're using more training data (99 vs 80).\n"
   ]
  },
  {
   "cell_type": "markdown",
   "metadata": {},
   "source": [
    "### Method 3: k-Fold Cross-Validation (k=5)\n",
    "\n",
    "In 5-fold CV:\n",
    "- We partition data into 5 equal folds\n",
    "- For each fold $j$, we train on the remaining 4 folds and test on fold $j$\n",
    "- We average the results across all 5 folds\n",
    "\n",
    "The 5-fold CV estimate of test MSE is:\n",
    "$$MSE_{5-fold} = \\frac{1}{5}\\sum_{j=1}^{5}MSE_j = \\frac{1}{5}\\sum_{j=1}^{5}\\left(\\frac{1}{n_j}\\sum_{i \\in \\text{fold}_j}(Y_i - \\hat{f}^{-j}(X_i))^2\\right)$$\n",
    "\n",
    "where $n_j$ is the number of observations in fold $j$ and $\\hat{f}^{-j}$ is the model trained without fold $j$.\n",
    "\n",
    "The variance of 5-fold CV comes from:\n",
    "1. Random sampling of the entire dataset\n",
    "2. Random partitioning into 5 folds\n",
    "\n",
    "$$\\text{Var}(MSE_{5-fold}) = \\text{Var}\\left(\\frac{1}{5}\\sum_{j=1}^{5}\\left(\\frac{1}{n_j}\\sum_{i \\in \\text{fold}_j}(Y_i - \\hat{f}^{-j}(X_i))^2\\right)\\right)$$\n",
    "\n",
    "The 5-fold CV has more variance than LOOCV but less than the validation set approach because it uses more data for training than validation set (80% vs 80% in our case) but has less correlated training sets than LOOCV.\n",
    "\n",
    "1. In 5-fold CV, we split data into 5 equal parts, each containing 20 observations.\n",
    "\n",
    "2. For each fold, the training set has $n_{train} = 80$ observations.\n",
    "\n",
    "3. The prediction error variance for each fold $k$ is:\n",
    "   $\\text{Var}(Y_0 - \\hat{Y}_0)_k = \\sigma^2 + \\sigma^2 \\left[ \\frac{1}{80} + \\frac{(x_0 - \\bar{X}_{train,k})^2}{\\sum_{i \\in \\text{train}_k} (X_i - \\bar{X}_{train,k})^2} \\right]$\n",
    "\n",
    "4. Averaging across all 5 folds:\n",
    "   $\\text{Var}(Y_0 - \\hat{Y}_0)_{5-fold} = \\frac{1}{5} \\sum_{k=1}^{5} \\text{Var}(Y_0 - \\hat{Y}_0)_k$\n",
    "\n",
    "5. This simplifies to:\n",
    "   $\\text{Var}(Y_0 - \\hat{Y}_0)_{5-fold} = \\sigma^2 \\left[ 1 + \\frac{1}{80} + \\text{average of fold-specific variation terms} \\right]$"
   ]
  },
  {
   "cell_type": "markdown",
   "metadata": {},
   "source": [
    "### Method 4: Bootstrap\n",
    "\n",
    "In the bootstrap approach:\n",
    "- We create $B$ bootstrap samples by sampling $N$ observations with replacement\n",
    "- We train a model on each bootstrap sample and evaluate on the original dataset\n",
    "- We average the results across all bootstrap samples\n",
    "\n",
    "The bootstrap estimate of test MSE is:\n",
    "$$MSE_{boot} = \\frac{1}{N}\\sum_{i=1}^{N}\\left(Y_i - \\frac{1}{B_i}\\sum_{b \\in B_i}\\hat{f}^{*b}(X_i)\\right)^2$$\n",
    "\n",
    "where $B_i$ is the set of bootstrap samples that don't contain observation $i$, and $\\hat{f}^{*b}$ is the model trained on bootstrap sample $b$.\n",
    "\n",
    "The variance of the bootstrap comes from:\n",
    "1. Random sampling of the entire dataset\n",
    "2. Random sampling with replacement to create bootstrap samples\n",
    "\n",
    "$$\\text{Var}(MSE_{boot}) = \\text{Var}\\left(\\frac{1}{N}\\sum_{i=1}^{N}\\left(Y_i - \\frac{1}{B_i}\\sum_{b \\in B_i}\\hat{f}^{*b}(X_i)\\right)^2\\right)$$\n"
   ]
  },
  {
   "cell_type": "markdown",
   "metadata": {},
   "source": [
    "## Comparative Analysis of Variance\n",
    "\n",
    "### Method 1: Validation Set Approach\n",
    "- High variance due to sensitivity to specific train-test split\n",
    "- Only uses 80% of data for training\n",
    "- Only 20% of data for validation\n",
    "- Different observations for validation in each simulation\n",
    "\n",
    "### Method 2: LOOCV\n",
    "- Lower variance because nearly all observations (N-1) are used for training\n",
    "- Highly correlated training sets across folds\n",
    "- Uses all observations for validation (one at a time)\n",
    "- Same observations used across simulations\n",
    "\n",
    "### Method 3: 5-Fold CV\n",
    "- Moderate variance (between validation set and LOOCV)\n",
    "- Uses 80% of data for training in each fold\n",
    "- Moderately correlated training sets across folds\n",
    "- Uses all observations for validation (20% at a time)\n",
    "- Same observations used across simulations but in different fold combinations\n",
    "\n",
    "### Method 4: Bootstrap\n",
    "- Moderate to high variance\n",
    "- Uses approximately 63.2% of unique observations in each bootstrap sample\n",
    "- Different observations for each bootstrap sample\n",
    "- Can use out-of-bag observations for validation"
   ]
  },
  {
   "cell_type": "markdown",
   "metadata": {},
   "source": [
    "### Question 1: What is the variance of the prediction error calculated using the four methods on the test dataset?\n",
    "\n",
    "Based on the derivations above:\n",
    "\n",
    "1. **Validation Set (80:20)**:\n",
    "   $\\text{Var}(Y_0 - \\hat{Y}_0) = \\sigma^2 \\left[ 1 + \\frac{1}{80} + \\frac{(x_0 - \\bar{X}_{train})^2}{\\sum_{i=1}^{80} (X_i - \\bar{X}_{train})^2} \\right]$\n",
    "\n",
    "2. **LOOCV**:\n",
    "   $\\text{Var}(Y_0 - \\hat{Y}_0)_{LOOCV} = \\sigma^2 \\left[ 1 + \\frac{1}{99} + \\text{average variation term} \\right]$\n",
    "\n",
    "3. **5-Fold CV**:\n",
    "   $\\text{Var}(Y_0 - \\hat{Y}_0)_{5-fold} = \\sigma^2 \\left[ 1 + \\frac{1}{80} + \\text{average of fold-specific variation terms} \\right]$\n",
    "\n",
    "4. **Bootstrap**:\n",
    "   $\\text{Var}(Y_0 - \\hat{f}_{boot}(x_0)) \\approx \\sigma^2 \\left[ 1 + \\frac{1}{63.2B} + \\frac{1}{B}\\text{(average bootstrap variation term)} \\right]$"
   ]
  },
  {
   "cell_type": "markdown",
   "metadata": {},
   "source": [
    "### Question 2: Which method results in the largest prediction error variance?\n",
    "\n",
    "From an hindsight, i.e. the textbook, as a general rule, as we use more flexible methods, the variance will increase and the bias will decrease. \n",
    "\n",
    "1. Validation Set: Has factor $\\frac{1}{80} \\approx 0.0125$\n",
    "2. LOOCV: Has factor $\\frac{1}{99} \\approx 0.0101$\n",
    "3. 5-Fold CV: Has factor $\\frac{1}{80} \\approx 0.0125$\n",
    "4. Bootstrap: Has factor $\\frac{1}{63.2B}$, which approaches 0 as $B$ increases\n",
    "\n",
    "The variation terms also matter, but generally, methods with fewer training samples have higher prediction error variance.\n",
    "\n",
    "Therefore, among these methods, the **Validation Set Approach and 5-Fold CV** will likely have the largest prediction error variance. The Validation Set approach has additional variability due to the specific random split chosen, which increases its overall variance further.\n",
    "\n",
    "Based on the theoretical derivation:\n",
    "\n",
    "1. **Validation Set Approach**: Highest variance due to high sensitivity to the specific split.\n",
    "2. **LOOCV**: Lowest variance due to maximum use of training data and highly correlated training sets.\n",
    "3. **5-Fold CV**: Moderate variance, higher than LOOCV but lower than validation set approach.\n",
    "4. **Bootstrap**: Moderate to high variance, depending on the number of bootstrap samples.\n",
    "\n",
    "Theoretically, the relative ordering of variances is:\n",
    "$$\\text{Var}(MSE_{val}) > \\text{Var}(MSE_{boot}) > \\text{Var}(MSE_{5-fold}) > \\text{Var}(MSE_{LOOCV})$$\n",
    "\n",
    "The **Validation Set Approach** results in the largest prediction error variance because:\n",
    "1. It uses the smallest portion of data for training (80%)\n",
    "2. It is highly sensitive to which observations end up in the training vs. validation sets\n",
    "3. With only 7 simulations, the different random splits can lead to very different validation sets and thus highly variable performance estimates"
   ]
  },
  {
   "cell_type": "markdown",
   "metadata": {},
   "source": [
    "### Question 3: If you were to evaluate the model's performance in the future, which method would you recommend using?\n",
    "\n",
    "From a theoretical perspective, the optimal method balances:\n",
    "1. Bias in estimating test error\n",
    "2. Variance in estimating test error\n",
    "3. Computational efficiency\n",
    "\n",
    "For evaluating model performance:\n",
    "\n",
    "- **LOOCV**: Provides nearly unbiased estimates [Notes_05][Page26] of test error but can have high variance and computational cost.\n",
    "- **k-Fold CV** (k=5 or k=10): Offers a good balance between bias and variance. Using k=5 or k=10 generally provides lower variance than LOOCV with acceptable bias.\n",
    "- **Bootstrap**: Works well for small datasets but can have bias in test error estimation.\n",
    "\n",
    "Recommend using **k-Fold Cross-Validation** (specifically 5-fold or 10-fold) because:\n",
    "\n",
    "1. It provides a good balance between bias and variance:\n",
    "   - LOOCV has lower variance but can be computationally expensive and may have higher bias\n",
    "   - Validation set approach has high variance\n",
    "   - Bootstrap can be biased for complex models\n",
    "\n",
    "2. It uses all data for both training and validation, which is more efficient\n",
    "\n",
    "3. It provides a more stable estimate of the test error than the validation set approach while being computationally more feasible than LOOCV\n",
    "\n",
    "4. It allows us to assess the variability of the model's performance across different subsets of the data\n",
    "\n",
    "5. For future performance evaluation, stability and generalizability of the evaluation metric are critical, and 5-fold CV offers the best compromise between these factors\n",
    "\n",
    "In practice, if computational resources permit, using 10-fold CV often provides an even better balance between bias and variance."
   ]
  },
  {
   "cell_type": "markdown",
   "metadata": {},
   "source": [
    "## ✅ Part 2. Simulation Approaches."
   ]
  },
  {
   "cell_type": "markdown",
   "metadata": {},
   "source": [
    "### responses ###\n",
    " - Question 1. What is the variance of the prediction error calculated using the four methods on the test dataset?\n",
    " - Response 1.\n",
    "     - Method 1. Validation Set: 0.004512\n",
    "     - Method 2. LOOCV: 0.001228\n",
    "     - Method 3. k-Fold CV: 0.001266\n",
    "     - Method 4. Bootstrap: 0.001311\n",
    "\n",
    " - Question 2. Which method results in the largest prediction error variance?\n",
    " - Response 2. Method 1 (Validation Set Approach) results in the largest prediction error variance.\n",
    "\n",
    " - Question 3. If you were to evaluate the model's performance in the future, which method would you recommend using?\n",
    " - Response 3. \n",
    "     - For general purposes: **k-Fold CV** offers a good balance between bias and variance. Also, it often gives more accurate estimates of the test error rate than does **LOOCV**.\n",
    "     - For smaller datasets: **LOOCV** might be preferred for its efficient use of data\n",
    "     - If robust confidence intervals are needed: **Bootstrap** provides better uncertainty quantification\n",
    "     - If computational efficiency is critical with large datasets: **Validation** set approach is simplest"
   ]
  },
  {
   "cell_type": "markdown",
   "metadata": {},
   "source": [
    "## ✅ Part 3. Appendix"
   ]
  },
  {
   "cell_type": "markdown",
   "metadata": {},
   "source": [
    "### Import Libraries ###"
   ]
  },
  {
   "cell_type": "code",
   "execution_count": 1,
   "metadata": {},
   "outputs": [],
   "source": [
    "import numpy as np\n",
    "import pandas as pd\n",
    "import matplotlib.pyplot as plt\n",
    "from sklearn.linear_model import LinearRegression\n",
    "from sklearn.model_selection import train_test_split, LeaveOneOut, KFold\n",
    "from sklearn.metrics import mean_squared_error"
   ]
  },
  {
   "cell_type": "markdown",
   "metadata": {},
   "source": [
    "### Data Set Generation ###"
   ]
  },
  {
   "cell_type": "code",
   "execution_count": 2,
   "metadata": {},
   "outputs": [],
   "source": [
    "# Set random seed for reproducibility\n",
    "np.random.seed(42)\n",
    "\n",
    "# Parameters for data generation\n",
    "n_simulations = 500  # Number of simulations to run\n",
    "N = 100  # Number of observations\n",
    "test_size = 0.2  # Proportion for testing\n",
    "k_folds = 5  # Number of folds for k-fold CV\n",
    "n_bootstraps = 100  # Number of bootstrap iterations\n",
    "\n",
    "# True model parameters\n",
    "mu = 0\n",
    "var = 1\n",
    "beta_0 = 2\n",
    "beta_1 = 7"
   ]
  },
  {
   "cell_type": "markdown",
   "metadata": {},
   "source": [
    "### Arrays to store the average error for each simulation and method"
   ]
  },
  {
   "cell_type": "code",
   "execution_count": 3,
   "metadata": {},
   "outputs": [],
   "source": [
    "validation_errors = np.zeros(n_simulations)\n",
    "loocv_errors = np.zeros(n_simulations)\n",
    "kfold_errors = np.zeros(n_simulations)\n",
    "bootstrap_errors = np.zeros(n_simulations)"
   ]
  },
  {
   "cell_type": "markdown",
   "metadata": {},
   "source": [
    "### Functions for the 4 Methods ###"
   ]
  },
  {
   "cell_type": "code",
   "execution_count": 4,
   "metadata": {},
   "outputs": [],
   "source": [
    "# Method 1: Validation Set Approach\n",
    "def validation_set_approach(X, Y, test_size=0.3):\n",
    "    X_train, X_test, Y_train, Y_test = train_test_split(X, Y, test_size=test_size, random_state=np.random.randint(0, 10000))\n",
    "    model = LinearRegression()\n",
    "    model.fit(X_train, Y_train)\n",
    "    Y_pred = model.predict(X_test)\n",
    "    return mean_squared_error(Y_test, Y_pred)  # Return average MSE for this test set\n",
    "\n",
    "# Method 2: Leave-One-Out Cross-Validation (LOOCV)\n",
    "def loocv_approach(X, Y):\n",
    "    loo = LeaveOneOut()\n",
    "    errors = []\n",
    "    \n",
    "    for train_idx, test_idx in loo.split(X):\n",
    "        X_train, X_test = X[train_idx], X[test_idx]\n",
    "        Y_train, Y_test = Y[train_idx], Y[test_idx]\n",
    "        \n",
    "        model = LinearRegression()\n",
    "        model.fit(X_train, Y_train)\n",
    "        Y_pred = model.predict(X_test)\n",
    "        errors.append((Y_test[0] - Y_pred[0]) ** 2)\n",
    "    \n",
    "    return np.mean(errors)  # Return average MSE across all left-out samples\n",
    "\n",
    "# Method 3: k-Fold Cross-Validation\n",
    "def k_fold_approach(X, Y, k=5):\n",
    "    kf = KFold(n_splits=k, shuffle=True, random_state=np.random.randint(0, 10000))\n",
    "    errors = []\n",
    "    \n",
    "    for train_idx, test_idx in kf.split(X):\n",
    "        X_train, X_test = X[train_idx], X[test_idx]\n",
    "        Y_train, Y_test = Y[train_idx], Y[test_idx]\n",
    "        \n",
    "        model = LinearRegression()\n",
    "        model.fit(X_train, Y_train)\n",
    "        Y_pred = model.predict(X_test)\n",
    "        \n",
    "        fold_error = mean_squared_error(Y_test, Y_pred)\n",
    "        errors.append(fold_error)\n",
    "    \n",
    "    return np.mean(errors)  # Return average MSE across all folds\n",
    "\n",
    "# Method 4: Bootstrap\n",
    "def bootstrap_approach(X, Y, n_bootstraps=100):\n",
    "    n = len(X)\n",
    "    errors = []\n",
    "    \n",
    "    for _ in range(n_bootstraps):\n",
    "        # Bootstrap sampling (with replacement)\n",
    "        indices = np.random.choice(range(n), size=n, replace=True)\n",
    "        X_train = X[indices]\n",
    "        Y_train = Y[indices]\n",
    "        \n",
    "        # Out-of-bag samples\n",
    "        oob_indices = np.array(list(set(range(n)) - set(indices)))\n",
    "        \n",
    "        if len(oob_indices) > 0:  # Ensure there are OOB samples\n",
    "            X_test = X[oob_indices]\n",
    "            Y_test = Y[oob_indices]\n",
    "            \n",
    "            model = LinearRegression()\n",
    "            model.fit(X_train, Y_train)\n",
    "            Y_pred = model.predict(X_test)\n",
    "            \n",
    "            errors.append(mean_squared_error(Y_test, Y_pred))\n",
    "    \n",
    "    return np.mean(errors) if errors else np.nan  # Return average MSE across all bootstrap iterations"
   ]
  },
  {
   "cell_type": "markdown",
   "metadata": {},
   "source": [
    "### Run the simulations"
   ]
  },
  {
   "cell_type": "code",
   "execution_count": 5,
   "metadata": {},
   "outputs": [
    {
     "name": "stdout",
     "output_type": "stream",
     "text": [
      "Completed 50/500 simulations\n",
      "Completed 100/500 simulations\n",
      "Completed 150/500 simulations\n",
      "Completed 200/500 simulations\n",
      "Completed 250/500 simulations\n",
      "Completed 300/500 simulations\n",
      "Completed 350/500 simulations\n",
      "Completed 400/500 simulations\n",
      "Completed 450/500 simulations\n",
      "Completed 500/500 simulations\n"
     ]
    }
   ],
   "source": [
    "for i in range(n_simulations):\n",
    "    # Generate new synthetic data for each simulation\n",
    "    X = np.random.normal(mu, var, (N, 1))\n",
    "    epsilon = np.random.normal(0, 0.5, N)\n",
    "    Y = beta_0 + beta_1 * X.flatten() + epsilon\n",
    "    \n",
    "    # Apply each method and store the average error\n",
    "    validation_errors[i] = validation_set_approach(X, Y, test_size)\n",
    "    loocv_errors[i] = loocv_approach(X, Y)\n",
    "    kfold_errors[i] = k_fold_approach(X, Y, k_folds)\n",
    "    bootstrap_errors[i] = bootstrap_approach(X, Y, n_bootstraps)\n",
    "    \n",
    "    # Print progress every 50 simulations\n",
    "    if (i + 1) % 50 == 0:\n",
    "        print(f\"Completed {i + 1}/{n_simulations} simulations\")"
   ]
  },
  {
   "cell_type": "markdown",
   "metadata": {},
   "source": [
    "### Calculate variance of the errors across simulations"
   ]
  },
  {
   "cell_type": "code",
   "execution_count": 6,
   "metadata": {},
   "outputs": [],
   "source": [
    "error_variances = {\n",
    "    'Validation Set': np.var(validation_errors),\n",
    "    'LOOCV': np.var(loocv_errors),\n",
    "    'k-Fold CV': np.var(kfold_errors),\n",
    "    'Bootstrap': np.var(bootstrap_errors)\n",
    "}"
   ]
  },
  {
   "cell_type": "markdown",
   "metadata": {},
   "source": [
    "### Calculate means for reference"
   ]
  },
  {
   "cell_type": "code",
   "execution_count": 7,
   "metadata": {},
   "outputs": [],
   "source": [
    "error_means = {\n",
    "    'Validation Set': np.mean(validation_errors),\n",
    "    'LOOCV': np.mean(loocv_errors),\n",
    "    'k-Fold CV': np.mean(kfold_errors),\n",
    "    'Bootstrap': np.mean(bootstrap_errors)\n",
    "}"
   ]
  },
  {
   "cell_type": "markdown",
   "metadata": {},
   "source": [
    "### Print results"
   ]
  },
  {
   "cell_type": "code",
   "execution_count": 8,
   "metadata": {},
   "outputs": [
    {
     "name": "stdout",
     "output_type": "stream",
     "text": [
      "\n",
      "Variance of Error Across Simulations:\n",
      "Validation Set: 0.006957\n",
      "LOOCV: 0.001228\n",
      "k-Fold CV: 0.001266\n",
      "Bootstrap: 0.001311\n",
      "\n",
      "Mean Error Across Simulations:\n",
      "Validation Set: 0.258230\n",
      "LOOCV: 0.253424\n",
      "k-Fold CV: 0.254716\n",
      "Bootstrap: 0.258065\n"
     ]
    }
   ],
   "source": [
    "print(\"\\nVariance of Error Across Simulations:\")\n",
    "for method, variance in error_variances.items():\n",
    "    print(f\"{method}: {variance:.6f}\")\n",
    "\n",
    "print(\"\\nMean Error Across Simulations:\")\n",
    "for method, mean_error in error_means.items():\n",
    "    print(f\"{method}: {mean_error:.6f}\")"
   ]
  },
  {
   "cell_type": "markdown",
   "metadata": {},
   "source": [
    "### Find method with largest variance"
   ]
  },
  {
   "cell_type": "code",
   "execution_count": 9,
   "metadata": {},
   "outputs": [
    {
     "name": "stdout",
     "output_type": "stream",
     "text": [
      "\n",
      "Method with largest prediction error variance: Validation Set (0.006957)\n"
     ]
    }
   ],
   "source": [
    "max_var_method = max(error_variances.items(), key=lambda x: x[1])\n",
    "print(f\"\\nMethod with largest prediction error variance: {max_var_method[0]} ({max_var_method[1]:.6f})\")"
   ]
  },
  {
   "cell_type": "markdown",
   "metadata": {},
   "source": [
    "### Calculate 95% confidence intervals"
   ]
  },
  {
   "cell_type": "code",
   "execution_count": 10,
   "metadata": {},
   "outputs": [
    {
     "name": "stdout",
     "output_type": "stream",
     "text": [
      "\n",
      "95% Confidence Intervals for Mean Error:\n",
      "Validation Set: (0.130430, 0.458057)\n",
      "LOOCV: (0.186333, 0.320835)\n",
      "k-Fold CV: (0.186758, 0.323790)\n",
      "Bootstrap: (0.189168, 0.326656)\n"
     ]
    }
   ],
   "source": [
    "confidence_intervals = {}\n",
    "for method, errors in {\n",
    "    'Validation Set': validation_errors,\n",
    "    'LOOCV': loocv_errors,\n",
    "    'k-Fold CV': kfold_errors,\n",
    "    'Bootstrap': bootstrap_errors\n",
    "}.items():\n",
    "    ci_low = np.percentile(errors, 2.5)\n",
    "    ci_high = np.percentile(errors, 97.5)\n",
    "    confidence_intervals[method] = (ci_low, ci_high)\n",
    "\n",
    "print(\"\\n95% Confidence Intervals for Mean Error:\")\n",
    "for method, (ci_low, ci_high) in confidence_intervals.items():\n",
    "    print(f\"{method}: ({ci_low:.6f}, {ci_high:.6f})\")"
   ]
  },
  {
   "cell_type": "markdown",
   "metadata": {},
   "source": [
    "### Visualization"
   ]
  },
  {
   "cell_type": "code",
   "execution_count": 11,
   "metadata": {},
   "outputs": [
    {
     "name": "stderr",
     "output_type": "stream",
     "text": [
      "/var/folders/l5/qvp4j1z1307788s5mf7cyypr0000gn/T/ipykernel_22961/1918715414.py:45: UserWarning: The figure layout has changed to tight\n",
      "  plt.tight_layout()\n"
     ]
    },
    {
     "data": {
      "image/png": "[encoded data removed]",
      "text/plain": [
       "<Figure size 1200x800 with 4 Axes>"
      ]
     },
     "metadata": {},
     "output_type": "display_data"
    }
   ],
   "source": [
    "plt.figure(figsize=(12, 8))\n",
    "\n",
    "# Boxplot of errors by method\n",
    "plt.subplot(2, 2, 1)\n",
    "plt.boxplot([validation_errors, loocv_errors, kfold_errors, bootstrap_errors], \n",
    "            labels=['Validation', 'LOOCV', 'k-Fold', 'Bootstrap'])\n",
    "plt.title('Distribution of Average Prediction Errors')\n",
    "plt.ylabel('Mean Squared Error')\n",
    "plt.grid(True, alpha=0.3)\n",
    "\n",
    "# Histogram of errors for each method\n",
    "plt.subplot(2, 2, 2)\n",
    "for errors, label, color in zip(\n",
    "    [validation_errors, loocv_errors, kfold_errors, bootstrap_errors],\n",
    "    ['Validation', 'LOOCV', 'k-Fold', 'Bootstrap'],\n",
    "    ['blue', 'orange', 'green', 'red']\n",
    "):\n",
    "    plt.hist(errors, alpha=0.5, bins=20, label=label, color=color)\n",
    "plt.title('Histogram of Prediction Errors')\n",
    "plt.xlabel('Mean Squared Error')\n",
    "plt.ylabel('Frequency')\n",
    "plt.legend()\n",
    "plt.grid(True, alpha=0.3)\n",
    "\n",
    "# Variance comparison bar chart\n",
    "plt.subplot(2, 2, 3)\n",
    "methods = list(error_variances.keys())\n",
    "variances = list(error_variances.values())\n",
    "plt.bar(methods, variances, color=['blue', 'orange', 'green', 'red'])\n",
    "plt.title('Variance of Prediction Errors')\n",
    "plt.ylabel('Variance')\n",
    "plt.xticks(rotation=45)\n",
    "plt.tight_layout()\n",
    "plt.grid(True, alpha=0.3)\n",
    "\n",
    "# Error means comparison\n",
    "plt.subplot(2, 2, 4)\n",
    "means = list(error_means.values())\n",
    "plt.bar(methods, means, color=['blue', 'orange', 'green', 'red'])\n",
    "plt.title('Mean Prediction Errors')\n",
    "plt.ylabel('Mean MSE')\n",
    "plt.xticks(rotation=45)\n",
    "plt.grid(True, alpha=0.3)\n",
    "\n",
    "plt.tight_layout()\n",
    "plt.show()"
   ]
  },
  {
   "cell_type": "markdown",
   "metadata": {},
   "source": [
    "### Theoretical discussion"
   ]
  },
  {
   "cell_type": "code",
   "execution_count": 12,
   "metadata": {},
   "outputs": [
    {
     "name": "stdout",
     "output_type": "stream",
     "text": [
      "\n",
      "Theoretical Analysis:\n",
      "1. Validation Set Approach:\n",
      "   - Variance sources: Random split into train/test, limited test set size\n",
      "   - Expected to have high variance due to sensitivity to the specific split\n",
      "\n",
      "2. LOOCV:\n",
      "   - Variance sources: Uses almost all data for training, less variation in model estimates\n",
      "   - Expected to have lower variance in model estimates but potentially higher variance in error estimates\n",
      "\n",
      "3. k-Fold CV:\n",
      "   - Variance sources: Multiple random splits, averaging across folds\n",
      "   - Expected to have moderate variance, balancing the use of different folds\n",
      "\n",
      "4. Bootstrap:\n",
      "   - Variance sources: Random sampling with replacement, varying OOB samples\n",
      "   - Expected to have higher variance due to the randomness in bootstrap sampling\n"
     ]
    }
   ],
   "source": [
    "print(\"\\nTheoretical Analysis:\")\n",
    "print(\"1. Validation Set Approach:\")\n",
    "print(\"   - Variance sources: Random split into train/test, limited test set size\")\n",
    "print(\"   - Expected to have high variance due to sensitivity to the specific split\")\n",
    "print(\"\\n2. LOOCV:\")\n",
    "print(\"   - Variance sources: Uses almost all data for training, less variation in model estimates\")\n",
    "print(\"   - Expected to have lower variance in model estimates but potentially higher variance in error estimates\")\n",
    "print(\"\\n3. k-Fold CV:\")\n",
    "print(\"   - Variance sources: Multiple random splits, averaging across folds\")\n",
    "print(\"   - Expected to have moderate variance, balancing the use of different folds\")\n",
    "print(\"\\n4. Bootstrap:\")\n",
    "print(\"   - Variance sources: Random sampling with replacement, varying OOB samples\")\n",
    "print(\"   - Expected to have higher variance due to the randomness in bootstrap sampling\")"
   ]
  },
  {
   "cell_type": "markdown",
   "metadata": {},
   "source": [
    "### Summary and recommendations"
   ]
  },
  {
   "cell_type": "code",
   "execution_count": 13,
   "metadata": {},
   "outputs": [
    {
     "name": "stdout",
     "output_type": "stream",
     "text": [
      "\n",
      "Summary and Recommendations:\n",
      "1. Based on the simulation results, the method with the highest variance is: Validation Set\n",
      "\n",
      "2. Recommended method for future evaluation:\n",
      "   - For general purposes: k-Fold CV offers a good balance between bias and variance\n",
      "   - For smaller datasets: LOOCV might be preferred for its efficient use of data\n",
      "   - If robust confidence intervals are needed: Bootstrap provides better uncertainty quantification\n",
      "   - If computational efficiency is critical with large datasets: Validation set approach is simplest\n"
     ]
    }
   ],
   "source": [
    "print(\"\\nSummary and Recommendations:\")\n",
    "print(\"1. Based on the simulation results, the method with the highest variance is:\", max_var_method[0])\n",
    "print(\"\\n2. Recommended method for future evaluation:\")\n",
    "print(\"   - For general purposes: k-Fold CV offers a good balance between bias and variance\")\n",
    "print(\"   - For smaller datasets: LOOCV might be preferred for its efficient use of data\")\n",
    "print(\"   - If robust confidence intervals are needed: Bootstrap provides better uncertainty quantification\")\n",
    "print(\"   - If computational efficiency is critical with large datasets: Validation set approach is simplest\")"
   ]
  }
 ],
 "metadata": {
  "kernelspec": {
   "display_name": "Python 3",
   "language": "python",
   "name": "python3"
  },
  "language_info": {
   "codemirror_mode": {
    "name": "ipython",
    "version": 3
   },
   "file_extension": ".py",
   "mimetype": "text/x-python",
   "name": "python",
   "nbconvert_exporter": "python",
   "pygments_lexer": "ipython3",
   "version": "3.11.6"
  }
 },
 "nbformat": 4,
 "nbformat_minor": 2
}
